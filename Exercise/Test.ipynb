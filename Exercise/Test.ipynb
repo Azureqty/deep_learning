{
 "cells": [
  {
   "cell_type": "code",
   "execution_count": 10,
   "metadata": {},
   "outputs": [
    {
     "name": "stdout",
     "output_type": "stream",
     "text": [
      "\n",
      "[1. 2. 3.]\n",
      "<NDArray 3 @gpu(0)>\n",
      "3\n"
     ]
    }
   ],
   "source": [
    "import mxnet as mx\n",
    "from mxnet import nd\n",
    "a = nd.array([1, 2, 3], ctx=mx.gpu())\n",
    "print(a)\n",
    "print(a.size)"
   ]
  },
  {
   "cell_type": "code",
   "execution_count": 9,
   "metadata": {},
   "outputs": [
    {
     "name": "stdout",
     "output_type": "stream",
     "text": [
      "\n",
      "[1.]\n",
      "<NDArray 1 @gpu(0)>\n"
     ]
    }
   ],
   "source": [
    "import mxnet as mx\n",
    "a = mx.nd.ones(1)\n",
    "b = mx.nd.ones(1,mx.gpu())\n",
    "a.asnumpy()\n",
    "b.asnumpy()\n",
    "print(b)"
   ]
  },
  {
   "cell_type": "code",
   "execution_count": 6,
   "metadata": {
    "scrolled": true
   },
   "outputs": [
    {
     "name": "stdout",
     "output_type": "stream",
     "text": [
      "\n",
      "[4.]\n",
      "<NDArray 1 @gpu(0)>\n"
     ]
    }
   ],
   "source": [
    "from mxnet import nd\n",
    "import mxnet as mx\n",
    "a = nd.array([1,2],ctx=mx.gpu())\n",
    "b = nd.array([2,1],ctx=mx.gpu())\n",
    "c = nd.dot(a,b)\n",
    "print(c)"
   ]
  },
  {
   "cell_type": "code",
   "execution_count": 18,
   "metadata": {},
   "outputs": [
    {
     "name": "stdout",
     "output_type": "stream",
     "text": [
      "\n",
      "[[[0. 0. 0. 0.]\n",
      "  [0. 0. 0. 0.]\n",
      "  [0. 0. 0. 0.]]\n",
      "\n",
      " [[0. 0. 0. 0.]\n",
      "  [0. 0. 0. 0.]\n",
      "  [0. 0. 0. 0.]]]\n",
      "<NDArray 2x3x4 @cpu(0)>\n",
      "\n",
      "[[1. 1. 1. 1.]\n",
      " [1. 1. 1. 1.]\n",
      " [1. 1. 1. 1.]]\n",
      "<NDArray 3x4 @cpu(0)>\n",
      "\n",
      "[[-1.3204551   0.68232244 -0.9858383   0.01992839]\n",
      " [ 0.7842404   0.50066984 -1.0283492   0.98445743]\n",
      " [ 0.23791966  0.5675242   0.416008    1.2724396 ]]\n",
      "<NDArray 3x4 @gpu(0)>\n"
     ]
    }
   ],
   "source": [
    "#张量\n",
    "tensor = nd.zeros((2,3,4))\n",
    "print(tensor)\n",
    "one = nd.ones((3,4))\n",
    "print(one)\n",
    "cn = nd.random.normal(0,1,shape=(3,4),ctx=mx.gpu())\n",
    "print(cn)"
   ]
  },
  {
   "cell_type": "code",
   "execution_count": 85,
   "metadata": {},
   "outputs": [
    {
     "name": "stdout",
     "output_type": "stream",
     "text": [
      "2.236068\n",
      "2.23606797749979\n",
      "\n",
      "[3.]\n",
      "<NDArray 1 @cpu(0)>\n",
      "3.0\n"
     ]
    }
   ],
   "source": [
    "from mxnet import nd\n",
    "X = nd.array([1,2])\n",
    "print(X.norm().asscalar()) #l2范数\n",
    "X.asnumpy()\n",
    "import math\n",
    "print(math.sqrt(5))\n",
    "print(X.sum())\n",
    "print(X.sum().asscalar())"
   ]
  },
  {
   "cell_type": "markdown",
   "metadata": {},
   "source": [
    "* 数据操作课后练习"
   ]
  },
  {
   "cell_type": "code",
   "execution_count": 31,
   "metadata": {},
   "outputs": [
    {
     "name": "stdout",
     "output_type": "stream",
     "text": [
      "\n",
      "[[0. 0. 0.]\n",
      " [0. 1. 0.]\n",
      " [0. 0. 0.]]\n",
      "<NDArray 3x3 @cpu(0)>\n",
      "\n",
      "[[0. 0. 0.]\n",
      " [1. 0. 0.]\n",
      " [1. 1. 1.]]\n",
      "<NDArray 3x3 @cpu(0)>\n",
      "\n",
      "[[1. 1. 1.]\n",
      " [0. 0. 1.]\n",
      " [0. 0. 0.]]\n",
      "<NDArray 3x3 @cpu(0)>\n"
     ]
    }
   ],
   "source": [
    "import mxnet\n",
    "from mxnet import nd\n",
    "X = nd.array([[1,5,9],[2,4,6],[3,4,5]])\n",
    "Y = nd.arange(0,9).reshape(3,-1)\n",
    "nd.concat(X,Y,dim=0)\n",
    "#输出X == Y输出按元素比较的矩阵0或1结果\n",
    "print(X==Y)\n",
    "#输出X < Y输出按元素比较的矩阵0或1结果\n",
    "print(X < Y)\n",
    "#输出X > Y输出按元素比较的矩阵0或1结果\n",
    "print(X > Y)"
   ]
  },
  {
   "cell_type": "markdown",
   "metadata": {},
   "source": [
    "* 广播机制"
   ]
  },
  {
   "cell_type": "code",
   "execution_count": 42,
   "metadata": {},
   "outputs": [
    {
     "name": "stdout",
     "output_type": "stream",
     "text": [
      "\n",
      "[[2. 4. 5. 7.]\n",
      " [3. 5. 6. 8.]]\n",
      "<NDArray 2x4 @cpu(0)>\n",
      "\n",
      "[[0. 2.]\n",
      " [3. 5.]]\n",
      "<NDArray 2x2 @cpu(0)>\n",
      "\n",
      "[[2.]\n",
      " [3.]]\n",
      "<NDArray 2x1 @cpu(0)>\n",
      "\n",
      "[[2. 4.]\n",
      " [6. 8.]]\n",
      "<NDArray 2x2 @cpu(0)>\n"
     ]
    }
   ],
   "source": [
    "a = nd.array([[0,2,3,5]])\n",
    "b = nd.array([[2],[3]])\n",
    "print(a+b)\n",
    "\n",
    "a = a.reshape(2,2)\n",
    "\n",
    "print(a)\n",
    "print(b)\n",
    "print(a+b)"
   ]
  },
  {
   "cell_type": "markdown",
   "metadata": {},
   "source": [
    "# 自动求梯度"
   ]
  },
  {
   "cell_type": "code",
   "execution_count": 43,
   "metadata": {},
   "outputs": [],
   "source": [
    "from mxnet import autograd,nd"
   ]
  },
  {
   "cell_type": "code",
   "execution_count": 78,
   "metadata": {},
   "outputs": [
    {
     "data": {
      "text/plain": [
       "\n",
       "[[nan]\n",
       " [ 4.]\n",
       " [ 4.]\n",
       " [ 4.]]\n",
       "<NDArray 4x1 @cpu(0)>"
      ]
     },
     "execution_count": 78,
     "metadata": {},
     "output_type": "execute_result"
    }
   ],
   "source": [
    "x = nd.arange(4).reshape((4,1))\n",
    "#申请存储梯度的内存\n",
    "x.attach_grad()\n",
    "#默认条件下MXNet不会记录用于求梯度的计算\n",
    "with autograd.record():\n",
    "    y = 2 * nd.dot(x.T,x)\n",
    "y.backward()\n",
    "assert (x.grad - 4 * x).norm().asscalar() == 0\n",
    "x.grad\n"
   ]
  },
  {
   "cell_type": "markdown",
   "metadata": {},
   "source": [
    "* 训练模式和预测模式\n",
    "\n",
    "* 记录与非记录模式"
   ]
  },
  {
   "cell_type": "code",
   "execution_count": 82,
   "metadata": {},
   "outputs": [
    {
     "name": "stdout",
     "output_type": "stream",
     "text": [
      "False\n",
      "False\n",
      "True\n",
      "True\n"
     ]
    }
   ],
   "source": [
    "print(autograd.is_recording())\n",
    "print(autograd.is_training())\n",
    "with autograd.record():\n",
    "    print(autograd.is_training())\n",
    "    print(autograd.is_recording())"
   ]
  },
  {
   "cell_type": "code",
   "execution_count": 102,
   "metadata": {},
   "outputs": [
    {
     "name": "stdout",
     "output_type": "stream",
     "text": [
      "\n",
      "[1. 2. 3. 4.]\n",
      "<NDArray 4 @cpu(0)>\n",
      "\n",
      "[1. 1. 1. 1.]\n",
      "<NDArray 4 @cpu(0)>\n"
     ]
    }
   ],
   "source": [
    "def f(a):\n",
    "    b = a * 2\n",
    "    while b.norm().asscalar() < 1000:\n",
    "        b = b * 2\n",
    "    if b.sum().asscalar() > 0:\n",
    "        c = b\n",
    "    else:\n",
    "        c = 100 * b\n",
    "    return c\n",
    "\n",
    "a = nd.random.normal(shape=1)\n",
    "a = nd.arange(1,5)\n",
    "print(a)\n",
    "a.attach_grad()\n",
    "with autograd.record():\n",
    "    c = f(a)\n",
    "c.backward()\n",
    "\n",
    "print(a.grad == c / a)"
   ]
  },
  {
   "cell_type": "markdown",
   "metadata": {},
   "source": [
    "# 查阅代码"
   ]
  },
  {
   "cell_type": "code",
   "execution_count": 105,
   "metadata": {},
   "outputs": [
    {
     "name": "stdout",
     "output_type": "stream",
     "text": [
      "['NDArray', '_Null', '__all__', '__builtins__', '__cached__', '__doc__', '__file__', '__loader__', '__name__', '__package__', '__spec__', '_internal', '_random_helper', 'current_context', 'exponential', 'exponential_like', 'gamma', 'gamma_like', 'generalized_negative_binomial', 'generalized_negative_binomial_like', 'multinomial', 'negative_binomial', 'negative_binomial_like', 'normal', 'normal_like', 'numeric_types', 'poisson', 'poisson_like', 'randint', 'randn', 'shuffle', 'uniform', 'uniform_like']\n"
     ]
    }
   ],
   "source": [
    "from mxnet import nd\n",
    "print(dir(nd.random))"
   ]
  },
  {
   "cell_type": "code",
   "execution_count": 108,
   "metadata": {},
   "outputs": [
    {
     "name": "stdout",
     "output_type": "stream",
     "text": [
      "Help on function ones_like:\n",
      "\n",
      "ones_like(data=None, out=None, name=None, **kwargs)\n",
      "    Return an array of ones with the same shape and type\n",
      "    as the input array.\n",
      "    \n",
      "    Examples::\n",
      "    \n",
      "      x = [[ 0.,  0.,  0.],\n",
      "           [ 0.,  0.,  0.]]\n",
      "    \n",
      "      ones_like(x) = [[ 1.,  1.,  1.],\n",
      "                      [ 1.,  1.,  1.]]\n",
      "    \n",
      "    \n",
      "    \n",
      "    Parameters\n",
      "    ----------\n",
      "    data : NDArray\n",
      "        The input\n",
      "    \n",
      "    out : NDArray, optional\n",
      "        The output NDArray to hold the result.\n",
      "    \n",
      "    Returns\n",
      "    -------\n",
      "    out : NDArray or list of NDArrays\n",
      "        The output of this function.\n",
      "\n",
      "\n",
      "[[1. 1. 1. 1.]\n",
      " [1. 1. 1. 1.]\n",
      " [1. 1. 1. 1.]]\n",
      "<NDArray 3x4 @cpu(0)>\n"
     ]
    }
   ],
   "source": [
    "help(nd.ones_like)\n",
    "x = nd.arange(0,12).reshape(3,4)\n",
    "y = nd.ones_like(x)\n",
    "print(y)"
   ]
  },
  {
   "cell_type": "markdown",
   "metadata": {},
   "source": [
    "使用nd.random.uniform?将得到与help(nd.random.uniform)几乎一样的内容"
   ]
  },
  {
   "cell_type": "code",
   "execution_count": 111,
   "metadata": {},
   "outputs": [],
   "source": [
    "nd.random.uniform?"
   ]
  },
  {
   "cell_type": "markdown",
   "metadata": {},
   "source": [
    "如果使用nd.random.uniform??，那么会额外显示该函数实现的代码。"
   ]
  },
  {
   "cell_type": "code",
   "execution_count": 112,
   "metadata": {},
   "outputs": [],
   "source": [
    "nd.random.uniform??"
   ]
  }
 ],
 "metadata": {
  "kernelspec": {
   "display_name": "Python 3",
   "language": "python",
   "name": "python3"
  },
  "language_info": {
   "codemirror_mode": {
    "name": "ipython",
    "version": 3
   },
   "file_extension": ".py",
   "mimetype": "text/x-python",
   "name": "python",
   "nbconvert_exporter": "python",
   "pygments_lexer": "ipython3",
   "version": "3.7.0"
  }
 },
 "nbformat": 4,
 "nbformat_minor": 2
}
