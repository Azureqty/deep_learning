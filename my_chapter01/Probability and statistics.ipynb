{
 "cells": [
  {
   "cell_type": "code",
   "execution_count": 18,
   "metadata": {
    "collapsed": true
   },
   "outputs": [],
   "source": [
    "import mxnet as mx\n",
    "from mxnet import nd"
   ]
  },
  {
   "cell_type": "code",
   "execution_count": 19,
   "metadata": {},
   "outputs": [
    {
     "data": {
      "text/plain": [
       "\n",
       "[2]\n",
       "<NDArray 1 @cpu(0)>"
      ]
     },
     "execution_count": 19,
     "metadata": {},
     "output_type": "execute_result"
    }
   ],
   "source": [
    "probabilities = nd.ones(6) / 6\n",
    "nd.sample_multinomial(probabilities)"
   ]
  },
  {
   "cell_type": "code",
   "execution_count": 20,
   "metadata": {
    "collapsed": true
   },
   "outputs": [],
   "source": [
    "nd.sample_multinomial??"
   ]
  },
  {
   "cell_type": "code",
   "execution_count": 21,
   "metadata": {},
   "outputs": [
    {
     "name": "stdout",
     "output_type": "stream",
     "text": [
      "\n",
      "[2 5 3 0 1 5 1 4 0 0]\n",
      "<NDArray 10 @cpu(0)>\n",
      "\n",
      "[[3 1 4 3 4 4 5 2 0 1]\n",
      " [3 2 3 5 3 5 5 5 0 4]\n",
      " [4 2 4 4 3 3 2 0 4 5]\n",
      " [0 3 2 5 3 2 4 4 0 2]\n",
      " [1 4 2 3 3 5 5 5 3 1]]\n",
      "<NDArray 5x10 @cpu(0)>\n"
     ]
    }
   ],
   "source": [
    "print(nd.sample_multinomial(probabilities, shape=(10)))\n",
    "print(nd.sample_multinomial(probabilities, shape=(5,10)))"
   ]
  },
  {
   "cell_type": "code",
   "execution_count": 22,
   "metadata": {
    "collapsed": true
   },
   "outputs": [],
   "source": [
    "rolls = nd.sample_multinomial(probabilities, shape=(1000))"
   ]
  },
  {
   "cell_type": "code",
   "execution_count": 23,
   "metadata": {
    "collapsed": true
   },
   "outputs": [],
   "source": [
    "counts = nd.zeros((6,1000))\n",
    "totals = nd.zeros(6)\n",
    "for i, roll in enumerate(rolls):\n",
    "    totals[int(roll.asscalar())] += 1\n",
    "    counts[:, i] = totals"
   ]
  },
  {
   "cell_type": "markdown",
   "metadata": {},
   "source": [
    "### count的第j列存储了第j次投色子后的次数"
   ]
  },
  {
   "cell_type": "code",
   "execution_count": 24,
   "metadata": {},
   "outputs": [
    {
     "name": "stdout",
     "output_type": "stream",
     "text": [
      "\n",
      "[ 0.17200001  0.163       0.185       0.152       0.153       0.175     ]\n",
      "<NDArray 6 @cpu(0)>\n",
      "\n",
      "[[   1.    1.    1. ...,  172.  172.  172.]\n",
      " [   0.    0.    0. ...,  162.  162.  163.]\n",
      " [   0.    1.    1. ...,  185.  185.  185.]\n",
      " [   0.    0.    0. ...,  152.  152.  152.]\n",
      " [   0.    0.    0. ...,  152.  153.  153.]\n",
      " [   0.    0.    1. ...,  175.  175.  175.]]\n",
      "<NDArray 6x1000 @cpu(0)>\n"
     ]
    }
   ],
   "source": [
    "print(totals/1000)\n",
    "print(counts) "
   ]
  },
  {
   "cell_type": "code",
   "execution_count": 25,
   "metadata": {},
   "outputs": [
    {
     "name": "stdout",
     "output_type": "stream",
     "text": [
      "\n",
      "[ 1.  0.  0.  0.  0.  0.]\n",
      "<NDArray 6 @cpu(0)>\n",
      "\n",
      "[ 0.5  0.   0.5  0.   0.   0. ]\n",
      "<NDArray 6 @cpu(0)>\n",
      "\n",
      "[ 0.15841584  0.17821783  0.18811882  0.20792079  0.06930693  0.1980198 ]\n",
      "<NDArray 6 @cpu(0)>\n"
     ]
    }
   ],
   "source": [
    "x = nd.arange(1000).reshape((1, 1000)) + 1\n",
    "estimates = counts / x\n",
    "print(estimates[:,0])\n",
    "print(estimates[:,1])\n",
    "print(estimates[:,100])"
   ]
  },
  {
   "cell_type": "code",
   "execution_count": 26,
   "metadata": {
    "collapsed": true
   },
   "outputs": [],
   "source": [
    "from matplotlib import pyplot as plt"
   ]
  },
  {
   "cell_type": "code",
   "execution_count": 27,
   "metadata": {},
   "outputs": [
    {
     "data": {
      "image/png": "[encoded data removed]",
      "text/plain": [
       "<matplotlib.figure.Figure at 0x7fe1bc049780>"
      ]
     },
     "metadata": {},
     "output_type": "display_data"
    }
   ],
   "source": [
    "plt.plot(estimates[0, :].asnumpy(), label=\"Estimated P(die=1)\")\n",
    "plt.plot(estimates[1, :].asnumpy(), label=\"Estimated P(die=2)\")\n",
    "plt.plot(estimates[2, :].asnumpy(), label=\"Estimated P(die=3)\")\n",
    "plt.plot(estimates[3, :].asnumpy(), label=\"Estimated P(die=4)\")\n",
    "plt.plot(estimates[4, :].asnumpy(), label=\"Estimated P(die=5)\")\n",
    "plt.plot(estimates[5, :].asnumpy(), label=\"Estimated P(die=6)\")\n",
    "plt.axhline(y=0.16666, color='black', linestyle='dashed')\n",
    "plt.legend()\n",
    "plt.show()"
   ]
  },
  {
   "cell_type": "code",
   "execution_count": 28,
   "metadata": {},
   "outputs": [],
   "source": [
    "import numpy as np\n",
    "batch_size = 1\n",
    "# we go over one observation at a time (speed doesn't matter here)\n",
    "def transform(data, label):\n",
    "    return data.astype(np.float32)/255, label.astype(np.float32)\n",
    "mnist_train = mx.gluon.data.vision.MNIST(train=True, transform=transform)\n",
    "mnist_test = mx.gluon.data.vision.MNIST(train=False, transform=transform)"
   ]
  },
  {
   "cell_type": "code",
   "execution_count": 29,
   "metadata": {},
   "outputs": [
    {
     "data": {
      "text/plain": [
       "<mxnet.gluon.data.vision.MNIST at 0x7fe1b436e400>"
      ]
     },
     "execution_count": 29,
     "metadata": {},
     "output_type": "execute_result"
    }
   ],
   "source": [
    "mnist_train"
   ]
  },
  {
   "cell_type": "markdown",
   "metadata": {},
   "source": [
    "## 已知yi的情况下，出现图片x的概率是由已知yi的前提下x的每个像素概率的乘积\n",
    "像素点大部分是0，小部分也基本上接近1，所以可以认为它们是0-1分布的离散变量"
   ]
  },
  {
   "cell_type": "code",
   "execution_count": 30,
   "metadata": {},
   "outputs": [],
   "source": [
    "import numpy as np\n",
    "\n",
    "batch_size = 1\n",
    "# we go over one observation at a time (speed doesn't matter here)\n",
    "def transform(data, label):\n",
    "    return data.astype(np.float32)/255, label.astype(np.float32)\n",
    "mnist_train = mx.gluon.data.vision.MNIST(train=True, transform=transform)\n",
    "mnist_test = mx.gluon.data.vision.MNIST(train=False, transform=transform)\n",
    "\n",
    "# Initialize the count statistics for p(y) and p(x_i|y)\n",
    "# We initialize all numbers with a count of 1 to ensure that we don't get a\n",
    "# division by zero.  Statisticians call this Laplace smoothing.\n",
    "ycount = nd.ones(shape=(10))\n",
    "xcount = nd.ones(shape=(784, 10))\n",
    "\n",
    "# Aggregate count statistics of how frequently a pixel is on (or off) for\n",
    "# zeros and ones.\n",
    "for data, label in mnist_train:\n",
    "    x = data.reshape((784,))\n",
    "    y = int(label)\n",
    "    ycount[y] += 1\n",
    "    xcount[:, y] += x\n",
    "\n",
    "\n",
    "# normalize the probabilities p(x_i|y) (divide per pixel counts by total\n",
    "# count)\n",
    "for i in range(10):\n",
    "    xcount[:, i] = xcount[:, i]/ycount[i]  # xcount的第i列是yi类别下的像素分布,xcount(m, i)可以认为是p(xm=1|yi),xm是第m个特征\n",
    "\n",
    "# likewise, compute the probability p(y)\n",
    "py = ycount / nd.sum(ycount)"
   ]
  },
  {
   "cell_type": "code",
   "execution_count": 32,
   "metadata": {},
   "outputs": [
    {
     "name": "stdout",
     "output_type": "stream",
     "text": [
      "\n",
      "[ 0.09871688  0.11236461  0.09930012  0.10218297  0.09736711  0.09035161\n",
      "  0.09863356  0.10441593  0.09751708  0.09915014]\n",
      "<NDArray 10 @cpu(0)>\n"
     ]
    }
   ],
   "source": [
    "print(py)"
   ]
  },
  {
   "cell_type": "code",
   "execution_count": 33,
   "metadata": {},
   "outputs": [
    {
     "data": {
      "text/plain": [
       "\n",
       "[[ 0.0001688   0.0001483   0.00016781 ...,  0.00015959  0.00017088\n",
       "   0.00016807]\n",
       " [ 0.0001688   0.0001483   0.00016781 ...,  0.00015959  0.00017088\n",
       "   0.00016807]\n",
       " [ 0.0001688   0.0001483   0.00016781 ...,  0.00015959  0.00017088\n",
       "   0.00016807]\n",
       " ..., \n",
       " [ 0.0001688   0.0001483   0.00016781 ...,  0.00015959  0.00017088\n",
       "   0.00016807]\n",
       " [ 0.0001688   0.0001483   0.00016781 ...,  0.00015959  0.00017088\n",
       "   0.00016807]\n",
       " [ 0.0001688   0.0001483   0.00016781 ...,  0.00015959  0.00017088\n",
       "   0.00016807]]\n",
       "<NDArray 784x10 @cpu(0)>"
      ]
     },
     "execution_count": 33,
     "metadata": {},
     "output_type": "execute_result"
    }
   ],
   "source": [
    "xcount"
   ]
  },
  {
   "cell_type": "code",
   "execution_count": 141,
   "metadata": {},
   "outputs": [
    {
     "data": {
      "image/png": "[encoded data removed]",
      "text/plain": [
       "<matplotlib.figure.Figure at 0x7f1d0ed16438>"
      ]
     },
     "metadata": {},
     "output_type": "display_data"
    },
    {
     "name": "stdout",
     "output_type": "stream",
     "text": [
      "\n",
      "[ 0.09871688  0.11236461  0.09930012  0.10218297  0.09736711  0.09035161\n",
      "  0.09863356  0.10441593  0.09751708  0.09915014]\n",
      "<NDArray 10 @cpu(0)>\n"
     ]
    }
   ],
   "source": [
    "import matplotlib.pyplot as plt\n",
    "fig, figarr = plt.subplots(1, 10, figsize=(15, 15))\n",
    "for i in range(10):\n",
    "    figarr[i].imshow(xcount[:, i].reshape((28, 28)).asnumpy(), cmap='hot')\n",
    "    figarr[i].axes.get_xaxis().set_visible(False)\n",
    "    figarr[i].axes.get_yaxis().set_visible(False)\n",
    "\n",
    "plt.show()\n",
    "print(py)"
   ]
  },
  {
   "cell_type": "code",
   "execution_count": 59,
   "metadata": {},
   "outputs": [
    {
     "name": "stdout",
     "output_type": "stream",
     "text": [
      "\n",
      "[ 0.09871688  0.11236461  0.09930012  0.10218297  0.09736711  0.09035161\n",
      "  0.09863356  0.10441593  0.09751708  0.09915014]\n",
      "<NDArray 10 @cpu(0)>\n",
      "(784,) (784,) (1,)\n",
      "(784,) (784,) (1,)\n",
      "(784,) (784,) (1,)\n",
      "(784,) (784,) (1,)\n",
      "(784,) (784,) (1,)\n",
      "(784,) (784,) (1,)\n",
      "(784,) (784,) (1,)\n",
      "(784,) (784,) (1,)\n",
      "(784,) (784,) (1,)\n",
      "(784,) (784,) (1,)\n",
      "(784,) (784,) (1,)\n",
      "(784,) (784,) (1,)\n",
      "(784,) (784,) (1,)\n",
      "(784,) (784,) (1,)\n",
      "(784,) (784,) (1,)\n",
      "(784,) (784,) (1,)\n",
      "(784,) (784,) (1,)\n",
      "(784,) (784,) (1,)\n",
      "(784,) (784,) (1,)\n",
      "(784,) (784,) (1,)\n",
      "(784,) (784,) (1,)\n",
      "(784,) (784,) (1,)\n",
      "(784,) (784,) (1,)\n",
      "(784,) (784,) (1,)\n",
      "(784,) (784,) (1,)\n",
      "(784,) (784,) (1,)\n",
      "(784,) (784,) (1,)\n",
      "(784,) (784,) (1,)\n",
      "(784,) (784,) (1,)\n",
      "(784,) (784,) (1,)\n",
      "(784,) (784,) (1,)\n",
      "(784,) (784,) (1,)\n",
      "(784,) (784,) (1,)\n",
      "(784,) (784,) (1,)\n",
      "(784,) (784,) (1,)\n",
      "(784,) (784,) (1,)\n",
      "(784,) (784,) (1,)\n",
      "(784,) (784,) (1,)\n",
      "(784,) (784,) (1,)\n",
      "(784,) (784,) (1,)\n",
      "(784,) (784,) (1,)\n",
      "(784,) (784,) (1,)\n",
      "(784,) (784,) (1,)\n",
      "(784,) (784,) (1,)\n",
      "(784,) (784,) (1,)\n",
      "(784,) (784,) (1,)\n",
      "(784,) (784,) (1,)\n",
      "(784,) (784,) (1,)\n",
      "(784,) (784,) (1,)\n",
      "(784,) (784,) (1,)\n",
      "(784,) (784,) (1,)\n",
      "(784,) (784,) (1,)\n",
      "(784,) (784,) (1,)\n",
      "(784,) (784,) (1,)\n",
      "(784,) (784,) (1,)\n",
      "(784,) (784,) (1,)\n",
      "(784,) (784,) (1,)\n",
      "(784,) (784,) (1,)\n",
      "(784,) (784,) (1,)\n",
      "(784,) (784,) (1,)\n",
      "(784,) (784,) (1,)\n",
      "(784,) (784,) (1,)\n",
      "(784,) (784,) (1,)\n",
      "(784,) (784,) (1,)\n",
      "(784,) (784,) (1,)\n",
      "(784,) (784,) (1,)\n",
      "(784,) (784,) (1,)\n",
      "(784,) (784,) (1,)\n",
      "(784,) (784,) (1,)\n",
      "(784,) (784,) (1,)\n",
      "(784,) (784,) (1,)\n",
      "(784,) (784,) (1,)\n",
      "(784,) (784,) (1,)\n",
      "(784,) (784,) (1,)\n",
      "(784,) (784,) (1,)\n",
      "(784,) (784,) (1,)\n",
      "(784,) (784,) (1,)\n",
      "(784,) (784,) (1,)\n",
      "(784,) (784,) (1,)\n",
      "(784,) (784,) (1,)\n",
      "(784,) (784,) (1,)\n",
      "(784,) (784,) (1,)\n",
      "(784,) (784,) (1,)\n",
      "(784,) (784,) (1,)\n",
      "(784,) (784,) (1,)\n",
      "(784,) (784,) (1,)\n",
      "(784,) (784,) (1,)\n",
      "(784,) (784,) (1,)\n",
      "(784,) (784,) (1,)\n",
      "(784,) (784,) (1,)\n",
      "(784,) (784,) (1,)\n",
      "(784,) (784,) (1,)\n",
      "(784,) (784,) (1,)\n",
      "(784,) (784,) (1,)\n",
      "(784,) (784,) (1,)\n",
      "(784,) (784,) (1,)\n",
      "(784,) (784,) (1,)\n",
      "(784,) (784,) (1,)\n",
      "(784,) (784,) (1,)\n",
      "(784,) (784,) (1,)\n"
     ]
    },
    {
     "data": {
      "image/png": "[encoded data removed]",
      "text/plain": [
       "<matplotlib.figure.Figure at 0x7fe1a9bcc940>"
      ]
     },
     "metadata": {},
     "output_type": "display_data"
    }
   ],
   "source": [
    "logxcount = nd.log(xcount)\n",
    "logxcountneg = nd.log(1-xcount)\n",
    "logpy = nd.log(py)\n",
    "print(py)\n",
    "\n",
    "input_num = 10\n",
    "fig, figarr = plt.subplots(2, input_num, figsize=(15, 3))\n",
    "\n",
    "# show 10 images\n",
    "ctr = 0\n",
    "for data, label in mnist_test:\n",
    "    x = data.reshape((784,))\n",
    "    y = int(label)\n",
    "\n",
    "    # we need to incorporate the prior probability p(y) since p(y|x) is\n",
    "    # proportional to p(x|y) p(y)\n",
    "    logpx = logpy.copy()\n",
    "    for i in range(10):\n",
    "        # compute the log probability for a digit\n",
    "        print(x.shape, logxcount[:, i].shape, nd.dot(logxcount[:, i], x).shape)\n",
    "        logpx[i] = nd.dot(logxcount[:, i], x) + nd.dot(logxcountneg[:, i], 1-x)   # logpx为x在类别i下的概率（只考虑相对大小）\n",
    "        logpx[i] *= py[i] # 我感觉应该要乘上先验概率\n",
    "    # normalize to prevent overflow or underflow by subtracting the largest\n",
    "    # value\n",
    "    logpx -= nd.max(logpx)\n",
    "    # and compute the softmax using logpx\n",
    "    px = nd.exp(logpx).asnumpy()\n",
    "    px /= np.sum(px)\n",
    "\n",
    "    # bar chart and image of digit\n",
    "    figarr[1, ctr].bar(range(10), px)\n",
    "    figarr[1, ctr].axes.get_yaxis().set_visible(False)\n",
    "    figarr[0, ctr].imshow(x.reshape((28, 28)).asnumpy(), cmap='hot')\n",
    "    figarr[0, ctr].axes.get_xaxis().set_visible(False)\n",
    "    figarr[0, ctr].axes.get_yaxis().set_visible(False)\n",
    "    ctr += 1\n",
    "    if ctr == input_num:\n",
    "        break\n",
    "\n",
    "plt.show()"
   ]
  },
  {
   "cell_type": "code",
   "execution_count": null,
   "metadata": {
    "collapsed": true
   },
   "outputs": [],
   "source": []
  }
 ],
 "metadata": {
  "kernelspec": {
   "display_name": "Python 3",
   "language": "python",
   "name": "python3"
  },
  "language_info": {
   "codemirror_mode": {
    "name": "ipython",
    "version": 3
   },
   "file_extension": ".py",
   "mimetype": "text/x-python",
   "name": "python",
   "nbconvert_exporter": "python",
   "pygments_lexer": "ipython3",
   "version": "3.6.2"
  }
 },
 "nbformat": 4,
 "nbformat_minor": 2
}
